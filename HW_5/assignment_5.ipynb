{
 "cells": [
  {
   "cell_type": "markdown",
   "metadata": {},
   "source": [
    "# Assignment 5\n",
    "\n",
    "Explore embeddings and CNN\n",
    "\n",
    "Using tweeter dataset ( https://www.kaggle.com/utathya/sentiment-analysis-of-imdb-reviews/data) and already existing splitting on train/test sets, develop a model for sentiment analysis.  \n",
    "Your quality metric is crossentropy (`sklearn.metrics.log_loss`, `torch.nn.CrossEntropy`)  \n",
    "\n",
    "Your model should be based on CNN and written in pytorch `torch.nn.Conv1d`.\n",
    "\n",
    "Explore 3 ways, which of them has better perfomance on test set?:\n",
    "1. Using pretrained word embeddings with frozen weights. `torch.nn.Embedding.from_pretrained(embed_matrix, frozen=True)`.\n",
    "You can download any pretrained embeddings you like.\n",
    "2. Train embeddings yourself, initializing from pretrained weights. `torch.nn.Embedding.from_pretrained(embed_matrix, frozen=False)`\n",
    "3. Train embeddings yourself with random initialization `torch.nn.init.uniform_(nn.Embeddings.weights)`\n",
    "\n",
    "Experiment with model arhitecture (as bonus):\n",
    "1. activation functions RELU, ELU, etc `torch.nn.functional.relu, torch.nn.functional.elu`  \n",
    "1. Stack layers\n",
    "1. max or average pooling (`torch.nn.functional.max_pool1d, torch.nn.functional.avg_pool1d`)\n",
    "1. Dropout\n",
    "\n",
    "\n",
    "Other requirements:\n",
    "1. Your training routine should use any learning scheduler (torch.nn.optim.lr_scheduler).  \n",
    "Plot current learning rate against number of epochs, e.g. `tt.optim.Adam.param_groups[0]['lr']`.  \n",
    "\n",
    "1. Your training routine should use early stopping on validation dataset\n",
    "Use hold out validation scheme in your experiments.\n",
    "\n",
    "1. You should use torchtext for parsing \n",
    "\n",
    "**Note**:\n",
    "This assignment has no baseline. Instead, **validation curves** for explored architectures are expected.  \n",
    "Validation curve is plot of model test score against model hyperparameter value.  \n",
    "example (https://scikit-learn.org/stable/auto_examples/model_selection/plot_validation_curve.html) . \n",
    "Though, using `sklearn.model_selection.validation_curve` is not necessary.  \n",
    "\n",
    "\n",
    "\n",
    "\n"
   ]
  },
  {
   "cell_type": "code",
   "execution_count": 1,
   "metadata": {},
   "outputs": [],
   "source": [
    "import warnings\n",
    "warnings.filterwarnings(\"ignore\")\n",
    "from sklearn.metrics import log_loss\n",
    "import matplotlib.pyplot as plt\n",
    "%matplotlib inline\n",
    "import pandas as pd\n",
    "import numpy as np\n",
    "from sklearn.externals import joblib\n",
    "import nltk\n",
    "import gensim\n",
    "\n",
    "from sklearn import metrics\n",
    "\n",
    "import torch as tt\n",
    "import torch.nn as nn\n",
    "import torch.nn.functional as F\n",
    "import torch.optim as optim\n",
    "\n",
    "from torchtext.data import Field, LabelField, BucketIterator, TabularDataset, Iterator\n",
    "\n",
    "SEED = 42\n",
    "np.random.seed(SEED)"
   ]
  },
  {
   "cell_type": "markdown",
   "metadata": {},
   "source": [
    "Токенайзер обычный"
   ]
  },
  {
   "cell_type": "code",
   "execution_count": 2,
   "metadata": {},
   "outputs": [],
   "source": [
    "from tqdm import tqdm_notebook as tqdm\n",
    "\n",
    "from nltk.tokenize import wordpunct_tokenize\n",
    "def tokenizer(text): # create a tokenizer function\n",
    "    return [tok for tok in wordpunct_tokenize(text.lower()) if tok.isalpha()]            "
   ]
  },
  {
   "cell_type": "code",
   "execution_count": 4,
   "metadata": {},
   "outputs": [],
   "source": [
    "data = pd.read_csv('./imdb_master.csv', encoding='utf-8', index_col=0)"
   ]
  },
  {
   "cell_type": "code",
   "execution_count": 5,
   "metadata": {},
   "outputs": [
    {
     "data": {
      "text/html": [
       "<div>\n",
       "<style scoped>\n",
       "    .dataframe tbody tr th:only-of-type {\n",
       "        vertical-align: middle;\n",
       "    }\n",
       "\n",
       "    .dataframe tbody tr th {\n",
       "        vertical-align: top;\n",
       "    }\n",
       "\n",
       "    .dataframe thead th {\n",
       "        text-align: right;\n",
       "    }\n",
       "</style>\n",
       "<table border=\"1\" class=\"dataframe\">\n",
       "  <thead>\n",
       "    <tr style=\"text-align: right;\">\n",
       "      <th></th>\n",
       "      <th>type</th>\n",
       "      <th>review</th>\n",
       "      <th>label</th>\n",
       "      <th>file</th>\n",
       "    </tr>\n",
       "  </thead>\n",
       "  <tbody>\n",
       "    <tr>\n",
       "      <th>0</th>\n",
       "      <td>test</td>\n",
       "      <td>Once again Mr. Costner has dragged out a movie...</td>\n",
       "      <td>neg</td>\n",
       "      <td>0_2.txt</td>\n",
       "    </tr>\n",
       "    <tr>\n",
       "      <th>1</th>\n",
       "      <td>test</td>\n",
       "      <td>This is an example of why the majority of acti...</td>\n",
       "      <td>neg</td>\n",
       "      <td>10000_4.txt</td>\n",
       "    </tr>\n",
       "    <tr>\n",
       "      <th>2</th>\n",
       "      <td>test</td>\n",
       "      <td>First of all I hate those moronic rappers, who...</td>\n",
       "      <td>neg</td>\n",
       "      <td>10001_1.txt</td>\n",
       "    </tr>\n",
       "    <tr>\n",
       "      <th>3</th>\n",
       "      <td>test</td>\n",
       "      <td>Not even the Beatles could write songs everyon...</td>\n",
       "      <td>neg</td>\n",
       "      <td>10002_3.txt</td>\n",
       "    </tr>\n",
       "    <tr>\n",
       "      <th>4</th>\n",
       "      <td>test</td>\n",
       "      <td>Brass pictures (movies is not a fitting word f...</td>\n",
       "      <td>neg</td>\n",
       "      <td>10003_3.txt</td>\n",
       "    </tr>\n",
       "  </tbody>\n",
       "</table>\n",
       "</div>"
      ],
      "text/plain": [
       "   type                                             review label         file\n",
       "0  test  Once again Mr. Costner has dragged out a movie...   neg      0_2.txt\n",
       "1  test  This is an example of why the majority of acti...   neg  10000_4.txt\n",
       "2  test  First of all I hate those moronic rappers, who...   neg  10001_1.txt\n",
       "3  test  Not even the Beatles could write songs everyon...   neg  10002_3.txt\n",
       "4  test  Brass pictures (movies is not a fitting word f...   neg  10003_3.txt"
      ]
     },
     "execution_count": 5,
     "metadata": {},
     "output_type": "execute_result"
    }
   ],
   "source": [
    "data.head()"
   ]
  },
  {
   "cell_type": "code",
   "execution_count": 6,
   "metadata": {},
   "outputs": [
    {
     "data": {
      "text/plain": [
       "(100000, 4)"
      ]
     },
     "execution_count": 6,
     "metadata": {},
     "output_type": "execute_result"
    }
   ],
   "source": [
    "data.shape"
   ]
  },
  {
   "cell_type": "code",
   "execution_count": 6,
   "metadata": {},
   "outputs": [
    {
     "data": {
      "text/plain": [
       "['а', 'б']"
      ]
     },
     "execution_count": 6,
     "metadata": {},
     "output_type": "execute_result"
    }
   ],
   "source": [
    "tokenizer('А, б, !!!')"
   ]
  },
  {
   "cell_type": "markdown",
   "metadata": {},
   "source": [
    "Разделим выборку на трейн и тест, чтобы загружать просто из файлов"
   ]
  },
  {
   "cell_type": "code",
   "execution_count": 7,
   "metadata": {},
   "outputs": [
    {
     "data": {
      "text/plain": [
       "(75000, 4)"
      ]
     },
     "execution_count": 7,
     "metadata": {},
     "output_type": "execute_result"
    }
   ],
   "source": [
    "train = data[data['type']=='train']\n",
    "train.shape"
   ]
  },
  {
   "cell_type": "code",
   "execution_count": 8,
   "metadata": {},
   "outputs": [
    {
     "data": {
      "text/plain": [
       "(25000, 4)"
      ]
     },
     "execution_count": 8,
     "metadata": {},
     "output_type": "execute_result"
    }
   ],
   "source": [
    "test = data[data['type']=='test']\n",
    "test.shape"
   ]
  },
  {
   "cell_type": "code",
   "execution_count": 9,
   "metadata": {},
   "outputs": [],
   "source": [
    "train[['review','label']].to_csv('train.csv', index=False)"
   ]
  },
  {
   "cell_type": "code",
   "execution_count": 10,
   "metadata": {},
   "outputs": [],
   "source": [
    "test[['review','label']].to_csv('test.csv', index=False)"
   ]
  },
  {
   "cell_type": "code",
   "execution_count": null,
   "metadata": {},
   "outputs": [],
   "source": []
  },
  {
   "cell_type": "code",
   "execution_count": 11,
   "metadata": {},
   "outputs": [
    {
     "data": {
      "text/plain": [
       "unsup    50000\n",
       "neg      25000\n",
       "pos      25000\n",
       "Name: label, dtype: int64"
      ]
     },
     "execution_count": 11,
     "metadata": {},
     "output_type": "execute_result"
    }
   ],
   "source": [
    "data['label'].value_counts()"
   ]
  },
  {
   "cell_type": "markdown",
   "metadata": {},
   "source": [
    "Маленький кусочек просто данных, чтобы проверять корректность работы функций (все равно что, протсо по форме подходило чтобы)"
   ]
  },
  {
   "cell_type": "code",
   "execution_count": 4,
   "metadata": {},
   "outputs": [],
   "source": [
    "from sklearn.model_selection import train_test_split\n",
    "\n",
    "data, _ = train_test_split(data, train_size=0.05, random_state=23)\n",
    "\n",
    "data[['review','label']].to_csv('train_small.csv', index=False)"
   ]
  },
  {
   "cell_type": "markdown",
   "metadata": {},
   "source": [
    "## Datasets"
   ]
  },
  {
   "cell_type": "code",
   "execution_count": 3,
   "metadata": {},
   "outputs": [],
   "source": [
    "classes={\n",
    "    'neg':0,\n",
    "    'unsup':1,\n",
    "    'pos':2\n",
    "}\n",
    "\n",
    "TEXT = Field(include_lengths=True, batch_first=True, \n",
    "             tokenize=tokenizer,\n",
    "             eos_token='<eos>',\n",
    "             lower=True,\n",
    "             stop_words=nltk.corpus.stopwords.words('english'))\n",
    "LABEL = LabelField(dtype=tt.int64, use_vocab=True, preprocessing=lambda x: classes[x])\n",
    "\n",
    "dataset = TabularDataset('train.csv', format='csv', \n",
    "                         fields=[('text', TEXT),('label', LABEL)], \n",
    "                         skip_header=True)"
   ]
  },
  {
   "cell_type": "code",
   "execution_count": 4,
   "metadata": {},
   "outputs": [],
   "source": [
    "test = TabularDataset('test.csv', format='csv', \n",
    "                         fields=[('text', TEXT),('label', LABEL)], \n",
    "                         skip_header=True)"
   ]
  },
  {
   "cell_type": "code",
   "execution_count": 5,
   "metadata": {},
   "outputs": [],
   "source": [
    "LABEL.build_vocab(dataset)"
   ]
  },
  {
   "cell_type": "code",
   "execution_count": 17,
   "metadata": {},
   "outputs": [
    {
     "data": {
      "text/plain": [
       "34027"
      ]
     },
     "execution_count": 17,
     "metadata": {},
     "output_type": "execute_result"
    }
   ],
   "source": [
    "TEXT.build_vocab(dataset, min_freq=10, vectors=\"glove.6B.100d\")\n",
    "len(TEXT.vocab.itos)"
   ]
  },
  {
   "cell_type": "code",
   "execution_count": 18,
   "metadata": {},
   "outputs": [],
   "source": [
    "weights_matrix = TEXT.vocab.vectors"
   ]
  },
  {
   "cell_type": "code",
   "execution_count": 19,
   "metadata": {},
   "outputs": [
    {
     "data": {
      "text/plain": [
       "torch.Size([34027, 100])"
      ]
     },
     "execution_count": 19,
     "metadata": {},
     "output_type": "execute_result"
    }
   ],
   "source": [
    "weights_matrix.shape"
   ]
  },
  {
   "cell_type": "code",
   "execution_count": 20,
   "metadata": {},
   "outputs": [
    {
     "data": {
      "text/plain": [
       "'good'"
      ]
     },
     "execution_count": 20,
     "metadata": {},
     "output_type": "execute_result"
    }
   ],
   "source": [
    "TEXT.vocab.itos[8]"
   ]
  },
  {
   "cell_type": "markdown",
   "metadata": {},
   "source": [
    "#### Embeddings\n",
    "\n",
    "Неудачный опыт с эмбедингами вики (почему-то лосс был очень быльшим, после перехода на глов стало хорошо, видимо, где-то была проблема)"
   ]
  },
  {
   "cell_type": "code",
   "execution_count": null,
   "metadata": {},
   "outputs": [],
   "source": [
    "#matrix_len = len(TEXT.vocab.itos)\n",
    "#weights_matrix = np.random.randn(matrix_len, 300)\n",
    "#words = 0\n",
    "\n",
    "#D = {value:key for key, value in enumerate(TEXT.vocab.itos)}\n",
    "\n",
    "#with open ('wiki-news-300d-1M.vec', 'r') as f:\n",
    "#    for line in f:\n",
    "#        word = line.split()[0]\n",
    "#        vector = line.split()[1:]\n",
    "#        break\n",
    "#    for line in tqdm(f, total=999994):\n",
    "#        word = line.split()[0]\n",
    "#        vector = [float(i) for i in line.split()[1:]]\n",
    "#        if word in D:\n",
    "#            weights_matrix[D[word]] = vector\n",
    "\n",
    "#weights_matrix = tt.FloatTensor(weights_matrix)"
   ]
  },
  {
   "cell_type": "markdown",
   "metadata": {},
   "source": [
    "делим на трейн и валидацию"
   ]
  },
  {
   "cell_type": "code",
   "execution_count": 21,
   "metadata": {},
   "outputs": [],
   "source": [
    "train, valid = dataset.split(0.7, stratified=True)"
   ]
  },
  {
   "cell_type": "code",
   "execution_count": 22,
   "metadata": {},
   "outputs": [],
   "source": [
    "batch_size = 32\n",
    "train_iterator, valid_iterator, test_iterator = BucketIterator.splits(\n",
    "    (train, valid, test),\n",
    "    batch_sizes=(batch_size, batch_size, batch_size),\n",
    "    shuffle=True,\n",
    "    sort_key=lambda x: len(x.text)\n",
    ")"
   ]
  },
  {
   "cell_type": "markdown",
   "metadata": {},
   "source": [
    "## Model 1"
   ]
  },
  {
   "cell_type": "code",
   "execution_count": 23,
   "metadata": {},
   "outputs": [],
   "source": [
    "class MyModel(nn.Module):\n",
    "    \n",
    "    def __init__(self, vocab_size, embed_size, hidden_size, kernels, weights_matrix):\n",
    "        super(MyModel, self).__init__()\n",
    "        self.embedding = nn.Embedding.from_pretrained(weights_matrix)\n",
    "        self.embedding.requires_grad = False\n",
    "        \n",
    "        self.convs = nn.ModuleList([nn.Conv1d(embed_size, hidden_size, k, padding=5) for k in kernels])\n",
    "        \n",
    "        self.fc = nn.Linear(hidden_size * len(kernels), 3)\n",
    "        \n",
    "    def forward(self, x):\n",
    "        \n",
    "        x = self.embedding(x)\n",
    "        x = x.transpose(1,2)\n",
    "        \n",
    "        concatenated = []\n",
    "        for conv in self.convs:\n",
    "            z = conv(x)\n",
    "            z = F.avg_pool1d(z, kernel_size=z.size(2))\n",
    "            z = z.squeeze(2)\n",
    "            concatenated.append(z)\n",
    "            \n",
    "        x = tt.cat(concatenated, 1)\n",
    "        x = self.fc(x)\n",
    "        return x"
   ]
  },
  {
   "cell_type": "code",
   "execution_count": 28,
   "metadata": {},
   "outputs": [],
   "source": [
    "from sklearn.base import BaseEstimator, ClassifierMixin\n",
    "class Estimator(BaseEstimator, ClassifierMixin):\n",
    "    \"\"\"\n",
    "    Logistic Regression estimator coping interface from scikit-learn\n",
    "    \"\"\"\n",
    "    def __init__(self, MyModel, n_epochs, vocab_size, embed_size, hidden_size, kernels, weights_matrix, batch_size=32):\n",
    "        self.model_nn = MyModel(len(TEXT.vocab.itos),\n",
    "                        embed_size=embed_size,\n",
    "                        hidden_size=hidden_size,\n",
    "                        kernels=kernels,\n",
    "                        weights_matrix=weights_matrix\n",
    "                       )\n",
    "        self.batch_size = batch_size\n",
    "        self.lr = []\n",
    "        self.loss = []\n",
    "        self.valid = []\n",
    "        self.n_epochs = n_epochs\n",
    "        \n",
    "        \n",
    "    def fit(self, train_iterator, valid_iterator, lr=0.1):\n",
    "        tt.cuda.empty_cache()\n",
    "        optimizer = tt.optim.Adam(self.model_nn.parameters(), lr=lr)\n",
    "        scheduler = tt.optim.lr_scheduler.ReduceLROnPlateau(optimizer, patience=5, verbose=True, cooldown=5)\n",
    "        criterion = nn.CrossEntropyLoss()\n",
    "        early_k = 0\n",
    "        min_loss = float('inf')\n",
    "        for i in tqdm(range(self.n_epochs), desc='Epoch'):\n",
    "            loss = 0\n",
    "            for batch in tqdm(train_iterator, leave=False, desc='Train'):\n",
    "                pred = self.model_nn.forward(batch.text[0])\n",
    "                l = criterion(pred, batch.label)\n",
    "                loss += l.item()\n",
    "                optimizer.zero_grad()\n",
    "                l.backward()\n",
    "                optimizer.step()\n",
    "            train_avg =  loss / len(train_iterator)\n",
    "            self.loss.append(train_avg)\n",
    "            self.lr.append(optimizer.param_groups[0]['lr'])\n",
    "            \n",
    "            loss = 0\n",
    "            with tt.no_grad():\n",
    "                for batch in tqdm(valid_iterator, leave=False, desc='Valid'):\n",
    "                    pred = self.model_nn.forward(batch.text[0])\n",
    "                    l = criterion(pred, batch.label)\n",
    "                    loss += l.item()\n",
    "                valid_avg =  loss / len(valid_iterator)\n",
    "                self.valid.append(valid_avg)\n",
    "                if loss < min_loss:\n",
    "                    min_loss = loss\n",
    "                    early_k = 0\n",
    "                else: early_k += 1\n",
    "                if early_k > 10:break\n",
    "            scheduler.step(loss)\n",
    "    \n",
    "    def __predict_proba(self, X):\n",
    "        pred = self.model_nn.forward(X)\n",
    "        pred = tt.softmax(pred, dim=-1)\n",
    "        pred = pred.detach().numpy()\n",
    "        return pred\n",
    "                    \n",
    "    def predict(self, X):\n",
    "        pred = self.__predict_proba(X)\n",
    "        return pred.argmax(axis=1)\n",
    "    \n",
    "    def test(self, test_iterator, log_loss):\n",
    "        losses = 0\n",
    "        for batch in tqdm(test_iterator, desc='Test'):\n",
    "            pred = self.__predict_proba(batch.text[0])\n",
    "            losses += log_loss(batch.label.detach().numpy(), pred, labels=[0, 1, 2])\n",
    "        return losses / len(test_iterator)"
   ]
  },
  {
   "cell_type": "code",
   "execution_count": null,
   "metadata": {
    "scrolled": true
   },
   "outputs": [],
   "source": [
    "est = Estimator(MyModel, 50, len(TEXT.vocab.itos),\n",
    "                embed_size=100,\n",
    "                hidden_size=128,\n",
    "                kernels=[2,3,4,5],\n",
    "                weights_matrix=weights_matrix, batch_size=32)\n",
    "\n",
    "est.fit(train_iterator, valid_iterator, lr=0.1)"
   ]
  },
  {
   "cell_type": "code",
   "execution_count": 37,
   "metadata": {},
   "outputs": [
    {
     "data": {
      "image/png": "[encoded data removed]",
      "text/plain": [
       "<Figure size 1440x576 with 2 Axes>"
      ]
     },
     "metadata": {
      "needs_background": "light"
     },
     "output_type": "display_data"
    }
   ],
   "source": [
    "x = [i+1 for i in range(len(est.loss))]\n",
    "plt.figure(figsize=(20,8))\n",
    "plt.subplot(2, 2, 1)\n",
    "plt.plot(x, est.loss, color='red')\n",
    "plt.plot(x, est.valid, color='blue')\n",
    "plt.ylabel('Loss (train, valid)')\n",
    "plt.legend(['train', 'validation'])\n",
    "plt.subplot(2, 2, 2)\n",
    "plt.title('Learning rate')\n",
    "plt.plot(x, est.lr, color='green')\n",
    "plt.xlabel('n epochs')\n",
    "plt.ylabel('LR');"
   ]
  },
  {
   "cell_type": "markdown",
   "metadata": {},
   "source": [
    "Модель не остановилась, потому что там были маленькие колебания лосса, которые не видны на графике из-за большого выброса. Видно, что после 15 эпохи особенно ничего не меняется."
   ]
  },
  {
   "cell_type": "code",
   "execution_count": 38,
   "metadata": {},
   "outputs": [
    {
     "data": {
      "application/vnd.jupyter.widget-view+json": {
       "model_id": "f0cccb2d51134d03951ee5fa5653aa26",
       "version_major": 2,
       "version_minor": 0
      },
      "text/plain": [
       "HBox(children=(IntProgress(value=0, description='Test', max=782, style=ProgressStyle(description_width='initia…"
      ]
     },
     "metadata": {},
     "output_type": "display_data"
    },
    {
     "data": {
      "text/plain": [
       "1.4484340279958992"
      ]
     },
     "execution_count": 38,
     "metadata": {},
     "output_type": "execute_result"
    }
   ],
   "source": [
    "est.test(test_iterator, log_loss)"
   ]
  },
  {
   "cell_type": "markdown",
   "metadata": {},
   "source": [
    "## Model 2"
   ]
  },
  {
   "cell_type": "code",
   "execution_count": 39,
   "metadata": {},
   "outputs": [],
   "source": [
    "class MyModel2(nn.Module):\n",
    "    \n",
    "    def __init__(self, vocab_size, embed_size, hidden_size, kernels, weights_matrix):\n",
    "        super(MyModel2, self).__init__()\n",
    "        self.embedding = nn.Embedding.from_pretrained(weights_matrix)\n",
    "        self.embedding.requires_grad = True\n",
    "        \n",
    "        self.convs = nn.ModuleList([nn.Conv1d(embed_size, hidden_size, k, padding=5) for k in kernels])\n",
    "        \n",
    "        self.fc = nn.Linear(hidden_size * len(kernels), 3)\n",
    "        \n",
    "    def forward(self, x):\n",
    "        \n",
    "        x = self.embedding(x)\n",
    "        x = x.transpose(1,2)\n",
    "        \n",
    "        concatenated = []\n",
    "        for conv in self.convs:\n",
    "            z = conv(x)\n",
    "            z = F.avg_pool1d(z, kernel_size=z.size(2))\n",
    "            z = z.squeeze(2)\n",
    "            concatenated.append(z)\n",
    "            \n",
    "        x = tt.cat(concatenated, 1)\n",
    "        x = self.fc(x)\n",
    "        return x"
   ]
  },
  {
   "cell_type": "code",
   "execution_count": 40,
   "metadata": {},
   "outputs": [],
   "source": [
    "est = Estimator(MyModel2, 50, len(TEXT.vocab.itos),\n",
    "                embed_size=100,\n",
    "                hidden_size=128,\n",
    "                kernels=[2,3,4,5],\n",
    "                weights_matrix=weights_matrix, batch_size=32)"
   ]
  },
  {
   "cell_type": "code",
   "execution_count": null,
   "metadata": {},
   "outputs": [],
   "source": [
    "est.fit(train_iterator, valid_iterator)"
   ]
  },
  {
   "cell_type": "code",
   "execution_count": 42,
   "metadata": {},
   "outputs": [
    {
     "data": {
      "image/png": "[encoded data removed]",
      "text/plain": [
       "<Figure size 1440x576 with 2 Axes>"
      ]
     },
     "metadata": {
      "needs_background": "light"
     },
     "output_type": "display_data"
    }
   ],
   "source": [
    "x = [i+1 for i in range(len(est.loss))]\n",
    "plt.figure(figsize=(20,8))\n",
    "plt.subplot(2, 2, 1)\n",
    "plt.plot(x, est.loss, color='red')\n",
    "plt.plot(x, est.valid, color='blue')\n",
    "plt.ylabel('Loss (train, valid)')\n",
    "plt.legend(['train', 'validation'])\n",
    "plt.subplot(2, 2, 2)\n",
    "plt.title('Learning rate')\n",
    "plt.plot(x, est.lr, color='green')\n",
    "plt.xlabel('n epochs')\n",
    "plt.ylabel('LR');"
   ]
  },
  {
   "cell_type": "markdown",
   "metadata": {},
   "source": [
    "Эта модель обучилась быстрее (раньше 15 эпохи), но тестовый лосс больше. Кажется, более плавное снижение в самом начале - лосс варьируется, но снижается, а не только прыгает (как в предыдущей)"
   ]
  },
  {
   "cell_type": "code",
   "execution_count": 43,
   "metadata": {},
   "outputs": [
    {
     "data": {
      "application/vnd.jupyter.widget-view+json": {
       "model_id": "808a53855e2b4f68be2c2ec72840f887",
       "version_major": 2,
       "version_minor": 0
      },
      "text/plain": [
       "HBox(children=(IntProgress(value=0, description='Test', max=782, style=ProgressStyle(description_width='initia…"
      ]
     },
     "metadata": {},
     "output_type": "display_data"
    },
    {
     "data": {
      "text/plain": [
       "1.5903268417464744"
      ]
     },
     "execution_count": 43,
     "metadata": {},
     "output_type": "execute_result"
    }
   ],
   "source": [
    "est.test(test_iterator, log_loss)"
   ]
  },
  {
   "cell_type": "markdown",
   "metadata": {},
   "source": [
    "## Model 3"
   ]
  },
  {
   "cell_type": "code",
   "execution_count": 44,
   "metadata": {},
   "outputs": [],
   "source": [
    "class MyModel3(nn.Module):\n",
    "    \n",
    "    def __init__(self, vocab_size, embed_size, hidden_size, kernels, weights_matrix):\n",
    "        super(MyModel3, self).__init__()\n",
    "        self.embedding = nn.Embedding(vocab_size, embed_size)\n",
    "        \n",
    "        self.convs = nn.ModuleList([nn.Conv1d(embed_size, hidden_size, k, padding=5) for k in kernels])\n",
    "        \n",
    "        self.fc = nn.Linear(hidden_size * len(kernels), 3)\n",
    "        \n",
    "    def forward(self, x):\n",
    "        \n",
    "        x = self.embedding(x)\n",
    "        x = x.transpose(1,2)\n",
    "        \n",
    "        concatenated = []\n",
    "        for conv in self.convs:\n",
    "            z = conv(x)\n",
    "            z = F.avg_pool1d(z, kernel_size=z.size(2))\n",
    "            z = z.squeeze(2)\n",
    "            concatenated.append(z)\n",
    "            \n",
    "        x = tt.cat(concatenated, 1)\n",
    "        x = self.fc(x)\n",
    "        return x"
   ]
  },
  {
   "cell_type": "code",
   "execution_count": 45,
   "metadata": {},
   "outputs": [],
   "source": [
    "est = Estimator(MyModel3, 50, len(TEXT.vocab.itos),\n",
    "                embed_size=100,\n",
    "                hidden_size=128,\n",
    "                kernels=[2,3,4,5],\n",
    "                weights_matrix=weights_matrix, batch_size=32)"
   ]
  },
  {
   "cell_type": "code",
   "execution_count": null,
   "metadata": {},
   "outputs": [],
   "source": [
    "est.fit(train_iterator, valid_iterator)"
   ]
  },
  {
   "cell_type": "code",
   "execution_count": 47,
   "metadata": {},
   "outputs": [
    {
     "data": {
      "image/png": "[encoded data removed]",
      "text/plain": [
       "<Figure size 1440x576 with 2 Axes>"
      ]
     },
     "metadata": {
      "needs_background": "light"
     },
     "output_type": "display_data"
    }
   ],
   "source": [
    "x = [i+1 for i in range(len(est.loss))]\n",
    "plt.figure(figsize=(20,8))\n",
    "plt.subplot(2, 2, 1)\n",
    "plt.plot(x, est.loss, color='red')\n",
    "plt.plot(x, est.valid, color='blue')\n",
    "plt.ylabel('Loss (train, valid)')\n",
    "plt.legend(['train', 'validation'])\n",
    "plt.subplot(2, 2, 2)\n",
    "plt.title('Learning rate')\n",
    "plt.plot(x, est.lr, color='green')\n",
    "plt.xlabel('n epochs')\n",
    "plt.ylabel('LR');"
   ]
  },
  {
   "cell_type": "code",
   "execution_count": 48,
   "metadata": {},
   "outputs": [
    {
     "data": {
      "application/vnd.jupyter.widget-view+json": {
       "model_id": "48689a5c48e0492a862c3601d70d70e7",
       "version_major": 2,
       "version_minor": 0
      },
      "text/plain": [
       "HBox(children=(IntProgress(value=0, description='Test', max=782, style=ProgressStyle(description_width='initia…"
      ]
     },
     "metadata": {},
     "output_type": "display_data"
    },
    {
     "data": {
      "text/plain": [
       "22.392058873910045"
      ]
     },
     "execution_count": 48,
     "metadata": {},
     "output_type": "execute_result"
    }
   ],
   "source": [
    "est.test(test_iterator, log_loss)"
   ]
  },
  {
   "cell_type": "markdown",
   "metadata": {},
   "source": [
    "Результат сильно хуже, чем в предыдущих моедях. Очень большой лосс, видно, что веса случайные и не так хорошо подгоняются (может быть, например, размер выборки). А предобученные вектора уже хорошо соответствуют действительности и лучше характеризуют тексты. К тому же, эта модель медленнее всего обучается. Можно сделать вывод, что здесь достаточно и проще использовать предобученные вектора, чем обучать эмбединги самим. Возможно, стоит взять большую размерность и попробовать с ней. "
   ]
  }
 ],
 "metadata": {
  "kernelspec": {
   "display_name": "Python 3",
   "language": "python",
   "name": "python3"
  },
  "language_info": {
   "codemirror_mode": {
    "name": "ipython",
    "version": 3
   },
   "file_extension": ".py",
   "mimetype": "text/x-python",
   "name": "python",
   "nbconvert_exporter": "python",
   "pygments_lexer": "ipython3",
   "version": "3.5.2"
  }
 },
 "nbformat": 4,
 "nbformat_minor": 2
}
