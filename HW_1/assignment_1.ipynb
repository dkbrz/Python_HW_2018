{
 "cells": [
  {
   "cell_type": "markdown",
   "metadata": {},
   "source": [
    "# Assignment 1"
   ]
  },
  {
   "cell_type": "markdown",
   "metadata": {},
   "source": [
    "1. Реализовать Блум фильтр с помощью битового массива.\n",
    "Например, вы можете использовать [Битовые операции](https://wiki.python.org/moin/BitwiseOperators) или библиотеку bitarray.\n",
    "\n",
    "2. Провести численный эксперимент при false postive rate = 0.05, и количестве объектов S = 1 000 000.\n",
    "Убедится, полученные на семинаре оптимальные параметры фильтра позволяют достичь заявленного false positive rate.\n",
    "Посчитать  $\\frac {\\epsilon - \\hat \\epsilon} \\epsilon$, где $\\hat \\epsilon$ - ваша экспериментальная оценка false positive rate. В качестве объектов используйте строки."
   ]
  },
  {
   "cell_type": "markdown",
   "metadata": {},
   "source": [
    "## Фильтр Блума"
   ]
  },
  {
   "cell_type": "code",
   "execution_count": 1,
   "metadata": {},
   "outputs": [],
   "source": [
    "import random\n",
    "import math\n",
    "from bitarray import bitarray \n",
    "from sympy.ntheory.generate import prime"
   ]
  },
  {
   "cell_type": "code",
   "execution_count": 57,
   "metadata": {},
   "outputs": [],
   "source": [
    "class BloomFilter(object):\n",
    "    \n",
    "    def __init__(self, false_positive, S):\n",
    "        self.a_size = math.ceil(-(S * math.log(false_positive))/(math.log(2)**2))\n",
    "        self.k_func = math.ceil((self.a_size/S) * math.log(2))\n",
    "        #self.a_size = int(-(S * math.log(false_positive))/(math.log(2)**2))\n",
    "        #self.k_func = int((self.a_size/S) * math.log(2))\n",
    "        self.array = bitarray(self.a_size)\n",
    "        self.array.setall(0)\n",
    "        self.hash_p = []\n",
    "        for i in range (self.k_func):\n",
    "            nth = random.randint(0, self.a_size)\n",
    "            p = prime(1000+random.randint(1,10)*nth)\n",
    "            self.hash_p.append((p, random.randint(1, p-1)))\n",
    "        \n",
    "    def add(self, value):\n",
    "        for x in self.multi_hash(value):\n",
    "            self.array[x] = 1\n",
    "    \n",
    "    def check(self, value):\n",
    "        for x in self.multi_hash(value):\n",
    "            if self.array[x] == 0:\n",
    "                return False\n",
    "        return True\n",
    "    \n",
    "    def _hash(self, value, p, x):\n",
    "        for p, x in self.hash_p:\n",
    "            h = 0\n",
    "            for i in range(len(value)-1, -1, -1):\n",
    "                h = (h*x + ord(value[i]) + p) % p\n",
    "        return h\n",
    "                \n",
    "    def multi_hash(self, value):\n",
    "        for p, x in self.hash_p:\n",
    "            h = self._hash(value, p, x)\n",
    "            yield h % self.a_size"
   ]
  },
  {
   "cell_type": "markdown",
   "metadata": {},
   "source": [
    "## Test"
   ]
  },
  {
   "cell_type": "code",
   "execution_count": 4,
   "metadata": {},
   "outputs": [],
   "source": [
    "import string"
   ]
  },
  {
   "cell_type": "code",
   "execution_count": 18,
   "metadata": {},
   "outputs": [
    {
     "data": {
      "text/plain": [
       "'12Cn2RxxhSxrxGiVvv7Gf4l'"
      ]
     },
     "execution_count": 18,
     "metadata": {},
     "output_type": "execute_result"
    }
   ],
   "source": [
    "''.join(random.choices(string.ascii_uppercase + string.digits+string.ascii_lowercase, k=random.randint(1,50)))"
   ]
  },
  {
   "cell_type": "code",
   "execution_count": 62,
   "metadata": {},
   "outputs": [],
   "source": [
    "def test_bloomfilter(p, n):\n",
    "    bf = BloomFilter(p, n)\n",
    "    print(\"{} bit array\".format(bf.a_size)) \n",
    "    print(\"{} hash functions\".format(bf.k_func)) \n",
    "    train = set(''.join(random.choices(string.ascii_uppercase + string.digits+string.ascii_lowercase, k=random.randint(1,50))) for _ in range(n))\n",
    "    for i in train:\n",
    "        bf.add(i)\n",
    "    TP, FP, TN, FN = 0, 0, 0, 0\n",
    "    for _ in range(n):\n",
    "        value = ''.join(random.choices(string.ascii_uppercase + string.digits+string.ascii_lowercase, k=random.randint(1,50)))\n",
    "        res = bf.check(value)\n",
    "        if res is True:\n",
    "            if value in train: TP += 1\n",
    "            else: FP += 1\n",
    "        else:\n",
    "            if value in train: FN += 1\n",
    "            else: TN += 1\n",
    "    TP = TP / n\n",
    "    FP = FP / n\n",
    "    TN = TN / n\n",
    "    FN = FN / n\n",
    "    print ('TP={}, FP={}, TN={}, FN={}'.format(TP, FP, TN, FN))\n",
    "    return FP/(FP+TN)"
   ]
  },
  {
   "cell_type": "code",
   "execution_count": null,
   "metadata": {},
   "outputs": [],
   "source": [
    "test_bloomfilter(0.05, 10**6)"
   ]
  }
 ],
 "metadata": {
  "kernelspec": {
   "display_name": "Python 3",
   "language": "python",
   "name": "python3"
  },
  "language_info": {
   "codemirror_mode": {
    "name": "ipython",
    "version": 3
   },
   "file_extension": ".py",
   "mimetype": "text/x-python",
   "name": "python",
   "nbconvert_exporter": "python",
   "pygments_lexer": "ipython3",
   "version": "3.6.5"
  },
  "widgets": {
   "state": {},
   "version": "1.1.2"
  }
 },
 "nbformat": 4,
 "nbformat_minor": 2
}
