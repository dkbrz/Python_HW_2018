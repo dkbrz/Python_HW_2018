{
 "cells": [
  {
   "cell_type": "markdown",
   "metadata": {},
   "source": [
    "# Assignment 1"
   ]
  },
  {
   "cell_type": "markdown",
   "metadata": {},
   "source": [
    "1. Реализовать Блум фильтр с помощью битового массива.\n",
    "Например, вы можете использовать [Битовые операции](https://wiki.python.org/moin/BitwiseOperators) или библиотеку bitarray.\n",
    "\n",
    "2. Провести численный эксперимент при false postive rate = 0.05, и количестве объектов S = 1 000 000.\n",
    "Убедится, полученные на семинаре оптимальные параметры фильтра позволяют достичь заявленного false positive rate.\n",
    "Посчитать  $\\frac {\\epsilon - \\hat \\epsilon} \\epsilon$, где $\\hat \\epsilon$ - ваша экспериментальная оценка false positive rate. В качестве объектов используйте строки."
   ]
  },
  {
   "cell_type": "markdown",
   "metadata": {},
   "source": [
    "## Фильтр Блума"
   ]
  },
  {
   "cell_type": "code",
   "execution_count": 1,
   "metadata": {},
   "outputs": [],
   "source": [
    "import random\n",
    "import math\n",
    "from bitarray import bitarray \n",
    "import string"
   ]
  },
  {
   "cell_type": "code",
   "execution_count": 2,
   "metadata": {},
   "outputs": [],
   "source": [
    "class BloomFilter(object):\n",
    "    \n",
    "    def __init__(self, false_positive, S):\n",
    "        self.a_size = math.ceil((S * math.log(1/false_positive))/(math.log(2)**2))\n",
    "        self.k_func = math.ceil((self.a_size/S) * math.log(2))\n",
    "        self.array = bitarray(self.a_size)\n",
    "        self.array.setall(0)\n",
    "        self.primes = [random.choice([1301017, 4271387, 1597979, 1885043, 5064701, \n",
    "                                      2469157, 7384033, 8976301, 7554487, 9925439]) for _ in range(self.k_func)]\n",
    "        self.xs = [random.randint(1, self.primes[i]) for i in range (self.k_func)]\n",
    "        \n",
    "    def add(self, value):\n",
    "        for x in self.multi_hash(value):\n",
    "            self.array[x] = True\n",
    "    \n",
    "    def check(self, value):\n",
    "        for x in self.multi_hash(value):\n",
    "            if self.array[x] == False: return False\n",
    "        return True\n",
    "    \n",
    "    def _hash_str(self, value, p, x):\n",
    "        h = 0\n",
    "        for i, s in enumerate(value):\n",
    "            h = (h + ord(s) * x**i) % p\n",
    "        return h\n",
    "                \n",
    "    def multi_hash(self, value):\n",
    "        for x in range(self.k_func):\n",
    "            h = self._hash_str(value, self.primes[x], self.xs[x])\n",
    "            yield h % self.a_size"
   ]
  },
  {
   "cell_type": "markdown",
   "metadata": {},
   "source": [
    "## Test"
   ]
  },
  {
   "cell_type": "code",
   "execution_count": 3,
   "metadata": {},
   "outputs": [
    {
     "data": {
      "text/plain": [
       "'J8lc2PT29xkGSMz91FddrCsZm'"
      ]
     },
     "execution_count": 3,
     "metadata": {},
     "output_type": "execute_result"
    }
   ],
   "source": [
    "''.join(random.choices(string.ascii_uppercase + string.digits+string.ascii_lowercase, k=random.randint(1,50)))"
   ]
  },
  {
   "cell_type": "code",
   "execution_count": 4,
   "metadata": {},
   "outputs": [],
   "source": [
    "def test_bloomfilter(p, n, w = 100):\n",
    "    bf = BloomFilter(p, n)\n",
    "    train = set(''.join(random.choices(string.ascii_uppercase + string.digits+string.ascii_lowercase, k=random.randint(1,w))) for _ in range(n))\n",
    "    #train = set(''.join(random.choices(string.ascii_lowercase, k=random.randint(1,w))) for _ in range(n))\n",
    "    for i in train:\n",
    "        bf.add(i)\n",
    "    TP, FP, TN, FN = 0, 0, 0, 0\n",
    "    for _ in range(n):\n",
    "        value = ''.join(random.choices(string.ascii_uppercase + string.digits+string.ascii_lowercase, k=random.randint(1,w)))\n",
    "        res = bf.check(value)\n",
    "        if res is True:\n",
    "            if value in train: TP += 1\n",
    "            else: FP += 1\n",
    "        else:\n",
    "            if value in train: FN += 1\n",
    "            else: TN += 1\n",
    "    TP = TP / n\n",
    "    FP = FP / n\n",
    "    TN = TN / n\n",
    "    FN = FN / n\n",
    "    #print(bf.primes, bf.xs)\n",
    "    #print ('Size={}, k={}, TP={}, FP={}, TN={}, FN={}, BA={}'.format(bf.a_size, bf.k_func, TP, FP, TN, FN, sum(bf.array)/len(bf.array)))\n",
    "    return FP"
   ]
  },
  {
   "cell_type": "code",
   "execution_count": 6,
   "metadata": {},
   "outputs": [
    {
     "data": {
      "text/plain": [
       "0.0496"
      ]
     },
     "execution_count": 6,
     "metadata": {},
     "output_type": "execute_result"
    }
   ],
   "source": [
    "test_bloomfilter(0.05, 10**4)"
   ]
  },
  {
   "cell_type": "code",
   "execution_count": 7,
   "metadata": {},
   "outputs": [
    {
     "data": {
      "text/plain": [
       "0.04957"
      ]
     },
     "execution_count": 7,
     "metadata": {},
     "output_type": "execute_result"
    }
   ],
   "source": [
    "test_bloomfilter(0.05, 10**5)"
   ]
  },
  {
   "cell_type": "code",
   "execution_count": null,
   "metadata": {},
   "outputs": [],
   "source": [
    "test_bloomfilter(0.05, 10**6)"
   ]
  },
  {
   "cell_type": "code",
   "execution_count": null,
   "metadata": {},
   "outputs": [],
   "source": [
    "array = [test_bloomfilter(0.05, 10**3) for _ in range(5)]"
   ]
  },
  {
   "cell_type": "code",
   "execution_count": null,
   "metadata": {},
   "outputs": [],
   "source": [
    "experimental = sum(array)/5"
   ]
  },
  {
   "cell_type": "code",
   "execution_count": null,
   "metadata": {},
   "outputs": [],
   "source": [
    "(0.05 - experimental)/0.05"
   ]
  }
 ],
 "metadata": {
  "kernelspec": {
   "display_name": "Python 3",
   "language": "python",
   "name": "python3"
  },
  "language_info": {
   "codemirror_mode": {
    "name": "ipython",
    "version": 3
   },
   "file_extension": ".py",
   "mimetype": "text/x-python",
   "name": "python",
   "nbconvert_exporter": "python",
   "pygments_lexer": "ipython3",
   "version": "3.6.5"
  },
  "widgets": {
   "state": {},
   "version": "1.1.2"
  }
 },
 "nbformat": 4,
 "nbformat_minor": 2
}
